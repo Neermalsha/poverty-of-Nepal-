{
  "nbformat": 4,
  "nbformat_minor": 0,
  "metadata": {
    "colab": {
      "provenance": [],
      "mount_file_id": "1oDDttZhkcIOOE1mIV4C9OW78XOcOum6l",
      "authorship_tag": "ABX9TyNEjCYSpt20KqTnGZzfSpgq",
      "include_colab_link": true
    },
    "kernelspec": {
      "name": "python3",
      "display_name": "Python 3"
    },
    "language_info": {
      "name": "python"
    }
  },
  "cells": [
    {
      "cell_type": "markdown",
      "metadata": {
        "id": "view-in-github",
        "colab_type": "text"
      },
      "source": [
        "<a href=\"https://colab.research.google.com/github/Neermalsha/poverty-of-Nepal-/blob/main/Boolean_retrieval_functions.ipynb\" target=\"_parent\"><img src=\"https://colab.research.google.com/assets/colab-badge.svg\" alt=\"Open In Colab\"/></a>"
      ]
    },
    {
      "cell_type": "code",
      "execution_count": 1,
      "metadata": {
        "id": "gHCAyNfdrigr"
      },
      "outputs": [],
      "source": [
        "# Import necessary libraries\n",
        "import re\n",
        "from collections import defaultdict"
      ]
    },
    {
      "cell_type": "code",
      "source": [
        "# Step 1: Document Insertion\n",
        "documents = {\n",
        "    1: \"Information retrieval is the process of obtaining information from large document collections.\",\n",
        "    2: \"Boolean retrieval uses AND, OR, and NOT operators to find relevant documents.\",\n",
        "    3: \"The inverted index is a key component of the information retrieval system.\",\n",
        "    4: \"Indexing helps retrieve documents quickly by mapping terms to document IDs.\",\n",
        "    5: \"Retrieval systems improve the efficiency of search engines.\"\n",
        "}"
      ],
      "metadata": {
        "id": "c6RDKLbvr08N"
      },
      "execution_count": 2,
      "outputs": []
    },
    {
      "cell_type": "code",
      "source": [
        "# Step 2: Tokenization and Preprocessing\n",
        "def preprocess(text):\n",
        "    # Convert text to lowercase and remove punctuation\n",
        "    text = text.lower()\n",
        "    text = re.sub(r'\\W+', ' ', text)\n",
        "    return text.split()"
      ],
      "metadata": {
        "id": "Uy1NPCJQr6DR"
      },
      "execution_count": 3,
      "outputs": []
    },
    {
      "cell_type": "code",
      "source": [
        "# Step 3: Building the Dictionary and Inverted Index\n",
        "def build_inverted_index(documents):\n",
        "    inverted_index = defaultdict(list)\n",
        "    for doc_id, text in documents.items():\n",
        "        tokens = preprocess(text)\n",
        "        for token in tokens:\n",
        "            if doc_id not in inverted_index[token]:\n",
        "                inverted_index[token].append(doc_id)\n",
        "    return inverted_index\n",
        "\n"
      ],
      "metadata": {
        "id": "l42605qzr9UF"
      },
      "execution_count": 4,
      "outputs": []
    },
    {
      "cell_type": "code",
      "source": [
        "# Step 4: Boolean Retrieval\n",
        "def boolean_query(inverted_index, query):\n",
        "    query_terms = query.lower().split()\n",
        "    if 'and' in query_terms:\n",
        "        return set(inverted_index[query_terms[0]]) & set(inverted_index[query_terms[2]])\n",
        "    elif 'or' in query_terms:\n",
        "        return set(inverted_index[query_terms[0]]) | set(inverted_index[query_terms[2]])\n",
        "    elif 'not' in query_terms:\n",
        "        return set(inverted_index[query_terms[0]]) - set(inverted_index[query_terms[2]])\n",
        "    else:\n",
        "        return inverted_index[query_terms[0]]"
      ],
      "metadata": {
        "id": "aajojZVmsAfH"
      },
      "execution_count": 9,
      "outputs": []
    },
    {
      "cell_type": "code",
      "source": [
        "# Step 5: Testing the system\n",
        "def parse_complex_query(inverted_index, query):\n",
        "    query = query.lower()\n",
        "    # Handle parentheses and operator precedence (basic implementation)\n",
        "    if 'and' in query:\n",
        "        terms = query.split(' and ')\n",
        "        return set(inverted_index[terms[0]]) & set(inverted_index[terms[1]])\n",
        "    elif 'or' in query:\n",
        "        terms = query.split(' or ')\n",
        "        return set(inverted_index[terms[0]]) | set(inverted_index[terms[1]])\n",
        "    elif 'not' in query:\n",
        "        terms = query.split(' not ')\n",
        "        return set(inverted_index[terms[0]]) - set(inverted_index[terms[1]])\n",
        "    else:\n",
        "        return inverted_index[query]\n"
      ],
      "metadata": {
        "id": "UXubXR7isDGF"
      },
      "execution_count": 10,
      "outputs": []
    },
    {
      "cell_type": "code",
      "source": [
        "# Step 6: Building Inverted Index and Dictionary\n",
        "inverted_index = build_inverted_index(documents)\n",
        "\n",
        "# Print the Inverted Index (term: [doc_ids]) line by line\n",
        "print(\"Inverted Index:\")\n",
        "for term, doc_ids in inverted_index.items():\n",
        "    print(f\"{term}: {doc_ids}\")\n",
        "\n",
        "# Print the Dictionary (Unique Words) line by line\n",
        "print(\"\\nDictionary (Unique Words):\")\n",
        "for word in inverted_index:\n",
        "    print(word)"
      ],
      "metadata": {
        "colab": {
          "base_uri": "https://localhost:8080/"
        },
        "id": "eaclwRDEsKSW",
        "outputId": "403d4498-7401-4cab-ae0b-94bb108fc335"
      },
      "execution_count": 20,
      "outputs": [
        {
          "output_type": "stream",
          "name": "stdout",
          "text": [
            "Inverted Index:\n",
            "information: [1, 3]\n",
            "retrieval: [1, 2, 3, 5]\n",
            "is: [1, 3]\n",
            "the: [1, 3, 5]\n",
            "process: [1]\n",
            "of: [1, 3, 5]\n",
            "obtaining: [1]\n",
            "from: [1]\n",
            "large: [1]\n",
            "document: [1, 4]\n",
            "collections: [1]\n",
            "boolean: [2]\n",
            "uses: [2]\n",
            "and: [2]\n",
            "or: [2]\n",
            "not: [2]\n",
            "operators: [2]\n",
            "to: [2, 4]\n",
            "find: [2]\n",
            "relevant: [2]\n",
            "documents: [2, 4]\n",
            "inverted: [3]\n",
            "index: [3]\n",
            "a: [3]\n",
            "key: [3]\n",
            "component: [3]\n",
            "system: [3]\n",
            "indexing: [4]\n",
            "helps: [4]\n",
            "retrieve: [4]\n",
            "quickly: [4]\n",
            "by: [4]\n",
            "mapping: [4]\n",
            "terms: [4]\n",
            "ids: [4]\n",
            "systems: [5]\n",
            "improve: [5]\n",
            "efficiency: [5]\n",
            "search: [5]\n",
            "engines: [5]\n",
            "\n",
            "Dictionary (Unique Words):\n",
            "information\n",
            "retrieval\n",
            "is\n",
            "the\n",
            "process\n",
            "of\n",
            "obtaining\n",
            "from\n",
            "large\n",
            "document\n",
            "collections\n",
            "boolean\n",
            "uses\n",
            "and\n",
            "or\n",
            "not\n",
            "operators\n",
            "to\n",
            "find\n",
            "relevant\n",
            "documents\n",
            "inverted\n",
            "index\n",
            "a\n",
            "key\n",
            "component\n",
            "system\n",
            "indexing\n",
            "helps\n",
            "retrieve\n",
            "quickly\n",
            "by\n",
            "mapping\n",
            "terms\n",
            "ids\n",
            "systems\n",
            "improve\n",
            "efficiency\n",
            "search\n",
            "engines\n"
          ]
        }
      ]
    },
    {
      "cell_type": "code",
      "source": [
        "# Step 7: Testing Simple Boolean Queries\n",
        "query_result = boolean_query(inverted_index, \"retrieval AND system\")\n",
        "print(\"Query Result (retrieval AND system):\", query_result)"
      ],
      "metadata": {
        "colab": {
          "base_uri": "https://localhost:8080/"
        },
        "id": "R4yFmBnst0FL",
        "outputId": "0d2571df-93f1-431d-d774-e7bb52597df7"
      },
      "execution_count": 13,
      "outputs": [
        {
          "output_type": "stream",
          "name": "stdout",
          "text": [
            "Query Result (retrieval AND system): {3}\n"
          ]
        }
      ]
    },
    {
      "cell_type": "code",
      "source": [
        "# Step 8: Testing Complex Boolean Queries\n",
        "complex_query_result = parse_complex_query(inverted_index, \"retrieval AND system OR document\")\n",
        "print(\"Complex Query Result (retrieval AND system OR document):\", complex_query_result)"
      ],
      "metadata": {
        "colab": {
          "base_uri": "https://localhost:8080/"
        },
        "id": "ZVoQEf8Ft3Yn",
        "outputId": "2e1aa8ea-2903-4cbb-9aff-27d3c01013ee"
      },
      "execution_count": 14,
      "outputs": [
        {
          "output_type": "stream",
          "name": "stdout",
          "text": [
            "Complex Query Result (retrieval AND system OR document): set()\n"
          ]
        }
      ]
    },
    {
      "cell_type": "code",
      "source": [
        "# Step 9: User Input for Queries (Optional for Interactive Use)\n",
        "user_query = input(\"Enter a Boolean query (AND, OR, NOT): \")\n",
        "user_query_result = boolean_query(inverted_index, user_query)\n",
        "print(f\"User Query Result ({user_query}):\", user_query_result)"
      ],
      "metadata": {
        "colab": {
          "base_uri": "https://localhost:8080/"
        },
        "id": "yED1Efo0t7FY",
        "outputId": "ea647447-7cc2-4a03-96b8-b4ad8cb0d665"
      },
      "execution_count": 16,
      "outputs": [
        {
          "output_type": "stream",
          "name": "stdout",
          "text": [
            "Enter a Boolean query (AND, OR, NOT): information\n",
            "User Query Result (information): [1, 3]\n"
          ]
        }
      ]
    }
  ]
}